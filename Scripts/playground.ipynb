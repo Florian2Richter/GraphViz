{
 "cells": [
  {
   "cell_type": "code",
   "execution_count": 1,
   "metadata": {},
   "outputs": [],
   "source": [
    "import networkx as nx\n",
    "G = nx.karate_club_graph()"
   ]
  },
  {
   "cell_type": "code",
   "execution_count": 2,
   "metadata": {},
   "outputs": [],
   "source": [
    "nodes = G.nodes(data=True)"
   ]
  },
  {
   "cell_type": "code",
   "execution_count": null,
   "metadata": {},
   "outputs": [],
   "source": [
    "data_keys_list= []\n",
    "data_vals_list = []\n",
    "for node in nodes:\n",
    "    data_keys_list.extend(list(node[1].keys()))\n",
    "    data_vals_list.extend(list(node[1].values()))\n",
    "    data_keys = set(data_keys_list)\n",
    "    data_values = set(data_vals_list)"
   ]
  },
  {
   "cell_type": "code",
   "execution_count": 3,
   "metadata": {},
   "outputs": [],
   "source": [
    "\n",
    "data_keys_list = [key for node in nodes for key in node[1].keys()]\n",
    "data_vals_list = [val for node in nodes for val in node[1].values()]\n",
    "\n",
    "data_keys = set(data_keys_list)\n",
    "data_values = set(data_vals_list)\n"
   ]
  },
  {
   "cell_type": "code",
   "execution_count": 7,
   "metadata": {},
   "outputs": [],
   "source": [
    "temp_list = [node[1].keys() for node in nodes]\n",
    "temp2_list = [item for list in temp_list for item in list]"
   ]
  },
  {
   "cell_type": "code",
   "execution_count": null,
   "metadata": {},
   "outputs": [],
   "source": [
    "my_list = [{'name': 'Alice', 'age': 25}, {'name': 'Bob', 'age': 30}, {'name': 'Alice', 'age': 25}]\n",
    "\n",
    "# Convert each dictionary into a frozenset and create a set of frozensets\n",
    "unique_set = set(frozenset(d.items()) for d in my_list)\n",
    "\n",
    "# Convert each frozenset back to a dictionary\n",
    "unique_list = [dict(fs) for fs in unique_set]\n",
    "\n",
    "# Print the unique list of dictionaries\n",
    "print(unique_list)"
   ]
  },
  {
   "cell_type": "code",
   "execution_count": null,
   "metadata": {},
   "outputs": [],
   "source": [
    "my_list = [{'name': 'Alice', 'age': 25}, {'name': 'Bob', 'age': 30}, {'name': 'Alice', 'age': 25}]\n",
    "test = [d.items() for d in my_list]"
   ]
  },
  {
   "cell_type": "code",
   "execution_count": null,
   "metadata": {},
   "outputs": [],
   "source": []
  }
 ],
 "metadata": {
  "kernelspec": {
   "display_name": "GraphViz",
   "language": "python",
   "name": "python3"
  },
  "language_info": {
   "codemirror_mode": {
    "name": "ipython",
    "version": 3
   },
   "file_extension": ".py",
   "mimetype": "text/x-python",
   "name": "python",
   "nbconvert_exporter": "python",
   "pygments_lexer": "ipython3",
   "version": "3.10.6"
  },
  "orig_nbformat": 4
 },
 "nbformat": 4,
 "nbformat_minor": 2
}
